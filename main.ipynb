{
 "cells": [
  {
   "cell_type": "code",
   "execution_count": 68,
   "metadata": {},
   "outputs": [],
   "source": [
    "import numpy as np\n",
    "import matplotlib.pyplot as plt\n",
    "import pandas as pd\n",
    "import requests\n",
    "from bs4 import BeautifulSoup\n",
    "import re\n",
    "import json\n",
    "from IPython.display import display\n",
    "import pickle\n",
    "from Player_class import Player\n",
    "from utils import pandas_player_match\n",
    "from datetime import datetime\n",
    "\n",
    "from load_players import players"
   ]
  },
  {
   "cell_type": "code",
   "execution_count": 69,
   "metadata": {},
   "outputs": [
    {
     "name": "stdout",
     "output_type": "stream",
     "text": [
      "Duration: 0:00:01.863164\n"
     ]
    }
   ],
   "source": [
    "import numpy as np\n",
    "import matplotlib.pyplot as plt\n",
    "import pandas as pd\n",
    "import requests\n",
    "from bs4 import BeautifulSoup\n",
    "import re\n",
    "import json\n",
    "from IPython.display import display\n",
    "import pickle\n",
    "from Player_class import Player\n",
    "from datetime import datetime\n",
    "\n",
    "start_time = datetime.now()\n",
    "with open('players.pkl', 'rb') as f:\n",
    "    players = pickle.load(f)\n",
    "end_time = datetime.now()\n",
    "print('Duration: {}'.format(end_time - start_time))"
   ]
  },
  {
   "cell_type": "code",
   "execution_count": 70,
   "metadata": {},
   "outputs": [
    {
     "ename": "AttributeError",
     "evalue": "'Player' object has no attribute 'get_player_meetings'",
     "output_type": "error",
     "traceback": [
      "\u001b[0;31m---------------------------------------------------------------------------\u001b[0m",
      "\u001b[0;31mAttributeError\u001b[0m                            Traceback (most recent call last)",
      "Cell \u001b[0;32mIn[70], line 1\u001b[0m\n\u001b[0;32m----> 1\u001b[0m \u001b[43mplayers\u001b[49m\u001b[43m[\u001b[49m\u001b[38;5;124;43m'\u001b[39;49m\u001b[38;5;124;43mJannik Sinner\u001b[39;49m\u001b[38;5;124;43m'\u001b[39;49m\u001b[43m]\u001b[49m\u001b[38;5;241;43m.\u001b[39;49m\u001b[43mget_player_meetings\u001b[49m(players[\u001b[38;5;124m'\u001b[39m\u001b[38;5;124mRafael Nadal\u001b[39m\u001b[38;5;124m'\u001b[39m])\n",
      "\u001b[0;31mAttributeError\u001b[0m: 'Player' object has no attribute 'get_player_meetings'"
     ]
    }
   ],
   "source": [
    "players['Jannik Sinner'].get_player_meetings(players['Rafael Nadal'])"
   ]
  },
  {
   "cell_type": "code",
   "execution_count": 71,
   "metadata": {},
   "outputs": [
    {
     "data": {
      "text/plain": [
       "Player_class.Player"
      ]
     },
     "execution_count": 71,
     "metadata": {},
     "output_type": "execute_result"
    }
   ],
   "source": [
    "player1 = players['Jannik Sinner']\n",
    "player2 = players['Rafael Nadal']\n",
    "type(player1)"
   ]
  },
  {
   "cell_type": "code",
   "execution_count": 72,
   "metadata": {},
   "outputs": [
    {
     "name": "stdout",
     "output_type": "stream",
     "text": [
      "Method does not exist!\n"
     ]
    }
   ],
   "source": [
    "if hasattr(player1, 'get_player_meetings'):\n",
    "    print(\"Method exists!\")\n",
    "    meetings = player1.get_player_meetings(player2.player_name)\n",
    "    print(meetings)\n",
    "else:\n",
    "    print(\"Method does not exist!\")"
   ]
  },
  {
   "cell_type": "code",
   "execution_count": 74,
   "metadata": {},
   "outputs": [
    {
     "name": "stdout",
     "output_type": "stream",
     "text": [
      "Method does not exist!\n"
     ]
    }
   ],
   "source": [
    "import pickle\n",
    "from Player_class import Player\n",
    "\n",
    "# Load the players from the pickle file\n",
    "with open('players.pkl', 'rb') as f:\n",
    "    raw_players = pickle.load(f)\n",
    "\n",
    "# Recreate Player instances\n",
    "players = {}\n",
    "for player_name, player_data in raw_players.items():\n",
    "    # Ensure player_data contains required attributes\n",
    "    i = player_data.i  # Get the index for the player\n",
    "    players[player_name] = Player(player_name, i)  # Create new Player instance\n",
    "\n",
    "    # Copy matches and matches_pd attributes if applicable\n",
    "    players[player_name].matches = player_data.matches  # Copy matches\n",
    "    players[player_name].matches_pd = player_data.matches_pd  # Copy DataFrame if applicable\n",
    "\n",
    "# Now check if methods exist\n",
    "if hasattr(players['Jannik Sinner'], 'get_player_meetings'):\n",
    "    print(\"Method exists!\")\n",
    "else:\n",
    "    print(\"Method does not exist!\")\n"
   ]
  },
  {
   "cell_type": "code",
   "execution_count": null,
   "metadata": {},
   "outputs": [],
   "source": []
  }
 ],
 "metadata": {
  "kernelspec": {
   "display_name": "Python 3",
   "language": "python",
   "name": "python3"
  },
  "language_info": {
   "codemirror_mode": {
    "name": "ipython",
    "version": 3
   },
   "file_extension": ".py",
   "mimetype": "text/x-python",
   "name": "python",
   "nbconvert_exporter": "python",
   "pygments_lexer": "ipython3",
   "version": "3.12.1"
  }
 },
 "nbformat": 4,
 "nbformat_minor": 2
}
